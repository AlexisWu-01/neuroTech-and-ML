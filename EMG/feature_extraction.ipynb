{
 "cells": [
  {
   "cell_type": "code",
   "execution_count": 12,
   "id": "40ee5ab9-42f1-4217-b42c-2db414e61dbd",
   "metadata": {},
   "outputs": [],
   "source": [
    "import torch\n",
    "import numpy as np\n",
    "from scipy.io import loadmat\n",
    "import pandas as pd"
   ]
  },
  {
   "cell_type": "code",
   "execution_count": 22,
   "id": "dd1e7084-4bd9-4816-bd7d-0dc9b3ed8955",
   "metadata": {},
   "outputs": [
    {
     "data": {
      "text/plain": [
       "dict_keys(['__header__', '__version__', '__globals__', 'Fs', 'actualFs', 'dataChTimeTr', 'label_names', 'labels', 'numCh'])"
      ]
     },
     "execution_count": 22,
     "metadata": {},
     "output_type": "execute_result"
    }
   ],
   "source": [
    "data = loadmat(\"exampleEMGdata180trial_train.mat\")\n",
    "data.keys()"
   ]
  },
  {
   "cell_type": "code",
   "execution_count": 5,
   "id": "6edd8e96-033f-471a-965f-df36a9842049",
   "metadata": {},
   "outputs": [],
   "source": [
    "def WL(data):\n",
    "    # data must be np array\n",
    "    wl = np.sum(np.abs(np.diff(data)))\n",
    "    return wl / len(data)\n",
    "\n",
    "    "
   ]
  },
  {
   "cell_type": "code",
   "execution_count": 6,
   "id": "0a2326c1-a477-46c4-8097-d1b2f364e228",
   "metadata": {},
   "outputs": [],
   "source": [
    "def MAV(data):\n",
    "    return np.sum(data)/len(data)"
   ]
  },
  {
   "cell_type": "code",
   "execution_count": 7,
   "id": "53dc0ee1-f90e-4c19-a492-a431982ca073",
   "metadata": {},
   "outputs": [],
   "source": [
    "def SSC(data,threshold):\n",
    "    res = 0\n",
    "    for i in range(1, len(data)-1):\n",
    "        curr = (data[i]-data[i-1]) * (data[i+1]-data[i])\n",
    "        if curr >= threshold:\n",
    "            res += 1\n",
    "    return res"
   ]
  },
  {
   "cell_type": "code",
   "execution_count": 17,
   "id": "5a3b8dce-381d-4d4e-a00d-9821a4f43586",
   "metadata": {},
   "outputs": [],
   "source": [
    "data['dataChTimeTr'] = data['dataChTimeTr'].reshape(4,-1)"
   ]
  },
  {
   "cell_type": "code",
   "execution_count": 23,
   "id": "88b74d25-7ffe-475e-ba8b-c4d14dbbf583",
   "metadata": {},
   "outputs": [
    {
     "data": {
      "text/plain": [
       "(4, 1400, 180)"
      ]
     },
     "execution_count": 23,
     "metadata": {},
     "output_type": "execute_result"
    }
   ],
   "source": [
    "data['dataChTimeTr'].shape"
   ]
  },
  {
   "cell_type": "code",
   "execution_count": 25,
   "id": "501ee8af-2502-40d2-87df-6c8f770ab287",
   "metadata": {},
   "outputs": [],
   "source": [
    "trials = [i for i in range(180) for _ in range(1400)]"
   ]
  },
  {
   "cell_type": "code",
   "execution_count": 29,
   "id": "3e33819e-8765-4c2d-97e3-2fdfb2d75d9b",
   "metadata": {},
   "outputs": [
    {
     "data": {
      "text/plain": [
       "(180, 1)"
      ]
     },
     "execution_count": 29,
     "metadata": {},
     "output_type": "execute_result"
    }
   ],
   "source": [
    "data['labels'].shape"
   ]
  },
  {
   "cell_type": "code",
   "execution_count": 18,
   "id": "b0635ac6-19fa-447a-b7d4-0579878d1694",
   "metadata": {},
   "outputs": [],
   "source": [
    "df = pd.DataFrame({'ch1': data['dataChTimeTr'][0], 'ch2':data['dataChTimeTr'][1], 'ch3':data['dataChTimeTr'][2], 'ch4':data['dataChTimeTr'][3]})"
   ]
  },
  {
   "cell_type": "code",
   "execution_count": 20,
   "id": "b0fbfd61-ee46-4835-92a8-55b2c18e2cc0",
   "metadata": {},
   "outputs": [
    {
     "data": {
      "text/html": [
       "<div>\n",
       "<style scoped>\n",
       "    .dataframe tbody tr th:only-of-type {\n",
       "        vertical-align: middle;\n",
       "    }\n",
       "\n",
       "    .dataframe tbody tr th {\n",
       "        vertical-align: top;\n",
       "    }\n",
       "\n",
       "    .dataframe thead th {\n",
       "        text-align: right;\n",
       "    }\n",
       "</style>\n",
       "<table border=\"1\" class=\"dataframe\">\n",
       "  <thead>\n",
       "    <tr style=\"text-align: right;\">\n",
       "      <th></th>\n",
       "      <th>ch1</th>\n",
       "      <th>ch2</th>\n",
       "      <th>ch3</th>\n",
       "      <th>ch4</th>\n",
       "    </tr>\n",
       "  </thead>\n",
       "  <tbody>\n",
       "    <tr>\n",
       "      <th>0</th>\n",
       "      <td>-2245.752835</td>\n",
       "      <td>-1568.711991</td>\n",
       "      <td>-1904.490752</td>\n",
       "      <td>-1706.798723</td>\n",
       "    </tr>\n",
       "    <tr>\n",
       "      <th>1</th>\n",
       "      <td>-3034.269060</td>\n",
       "      <td>-2115.694245</td>\n",
       "      <td>-2137.183013</td>\n",
       "      <td>-1359.535237</td>\n",
       "    </tr>\n",
       "    <tr>\n",
       "      <th>2</th>\n",
       "      <td>636.916107</td>\n",
       "      <td>328.294286</td>\n",
       "      <td>-988.081100</td>\n",
       "      <td>1223.085596</td>\n",
       "    </tr>\n",
       "    <tr>\n",
       "      <th>3</th>\n",
       "      <td>-1689.973133</td>\n",
       "      <td>-1512.794285</td>\n",
       "      <td>-1438.997270</td>\n",
       "      <td>-118.737675</td>\n",
       "    </tr>\n",
       "    <tr>\n",
       "      <th>4</th>\n",
       "      <td>-1802.472215</td>\n",
       "      <td>-1915.159716</td>\n",
       "      <td>-1230.939715</td>\n",
       "      <td>-1969.079136</td>\n",
       "    </tr>\n",
       "  </tbody>\n",
       "</table>\n",
       "</div>"
      ],
      "text/plain": [
       "           ch1          ch2          ch3          ch4\n",
       "0 -2245.752835 -1568.711991 -1904.490752 -1706.798723\n",
       "1 -3034.269060 -2115.694245 -2137.183013 -1359.535237\n",
       "2   636.916107   328.294286  -988.081100  1223.085596\n",
       "3 -1689.973133 -1512.794285 -1438.997270  -118.737675\n",
       "4 -1802.472215 -1915.159716 -1230.939715 -1969.079136"
      ]
     },
     "execution_count": 20,
     "metadata": {},
     "output_type": "execute_result"
    }
   ],
   "source": [
    "df.head()"
   ]
  },
  {
   "cell_type": "code",
   "execution_count": null,
   "id": "5cb8a9a8-7d26-43da-8166-90c239af091a",
   "metadata": {},
   "outputs": [],
   "source": []
  }
 ],
 "metadata": {
  "kernelspec": {
   "display_name": "NeuroTech",
   "language": "python",
   "name": "neurotech"
  },
  "language_info": {
   "codemirror_mode": {
    "name": "ipython",
    "version": 3
   },
   "file_extension": ".py",
   "mimetype": "text/x-python",
   "name": "python",
   "nbconvert_exporter": "python",
   "pygments_lexer": "ipython3",
   "version": "3.10.12"
  }
 },
 "nbformat": 4,
 "nbformat_minor": 5
}
