{
 "cells": [
  {
   "cell_type": "code",
   "execution_count": 2,
   "id": "e19c8c09-905a-4586-a629-5b78e779135c",
   "metadata": {},
   "outputs": [],
   "source": [
    "import torch\n",
    "import torch.nn as nn\n",
    "import torch.optim as optim\n",
    "import matplotlib.pyplot as plt\n",
    "from scipy.io import loadmat\n",
    "import numpy as np"
   ]
  },
  {
   "cell_type": "code",
   "execution_count": 3,
   "id": "46d4f3c8-09a0-478e-baa9-a42521386af0",
   "metadata": {},
   "outputs": [
    {
     "name": "stderr",
     "output_type": "stream",
     "text": [
      "/usr/local/lib/python3.8/site-packages/scipy/io/matlab/_mio.py:227: MatReadWarning: Duplicate variable name \"None\" in stream - replacing previous with new\n",
      "Consider mio5.varmats_from_mat to split file into single variable files\n",
      "  matfile_dict = MR.get_variables(variable_names)\n"
     ]
    }
   ],
   "source": [
    "data = loadmat(\"fMRI4regionsNN.mat\")"
   ]
  },
  {
   "cell_type": "markdown",
   "id": "af4100ad-fb09-4042-badd-2b72733b19a4",
   "metadata": {},
   "source": [
    "## Loading the train dataset"
   ]
  },
  {
   "cell_type": "code",
   "execution_count": 4,
   "id": "7b331ba2-5c2f-4795-9677-33de9fcadf87",
   "metadata": {},
   "outputs": [],
   "source": [
    "from sklearn.preprocessing import StandardScaler\n",
    "# We need to standarize the data before we feed it to neural network\n",
    "scaler = StandardScaler()"
   ]
  },
  {
   "cell_type": "code",
   "execution_count": 5,
   "id": "37da8121-7762-42af-9773-a348a223211a",
   "metadata": {},
   "outputs": [],
   "source": [
    "X = torch.tensor(scaler.fit_transform(data['train4regions'].reshape(162,-1)), dtype= torch.float32)\n",
    "y = torch.tensor(data['trainIsFace'].reshape(-1), dtype=torch.uint8).float()"
   ]
  },
  {
   "cell_type": "markdown",
   "id": "10f35c15-31c6-43d0-b2ad-8dd2f8766c60",
   "metadata": {},
   "source": [
    "## Defining Our Neural Network"
   ]
  },
  {
   "cell_type": "code",
   "execution_count": 6,
   "id": "98e6ae43-e474-4f38-8e0d-25335b6b51da",
   "metadata": {},
   "outputs": [],
   "source": [
    "from torch.optim.lr_scheduler import StepLR\n"
   ]
  },
  {
   "cell_type": "code",
   "execution_count": 7,
   "id": "72a9fa51-f714-4981-bd4d-d908604c3e8c",
   "metadata": {},
   "outputs": [],
   "source": [
    "class SimpleNN(nn.Module):\n",
    "    \"\"\"\n",
    "    A simple 3 layer NN with dropout. \n",
    "    Activation function: Relu on first 2 and sigmoid on output layer\n",
    "    \"\"\"\n",
    "    def __init__(self):\n",
    "        super(SimpleNN, self).__init__()\n",
    "        self.fc1 = nn.Linear(4,32)\n",
    "        self.fc2 = nn.Linear(32,16)\n",
    "        self.dropout = nn.Dropout(p=0.15)  # Dropout layer with 20% drop probability\n",
    "\n",
    "        self.fc3 = nn.Linear(16,1)\n",
    "\n",
    "    def forward(self,x):\n",
    "        x = torch.relu(self.fc1(x))\n",
    "        x = torch.relu(self.fc2(x))\n",
    "        x = self.dropout(x)\n",
    "        x = torch.sigmoid(self.fc3(x))\n",
    "        return x\n",
    "    "
   ]
  },
  {
   "cell_type": "code",
   "execution_count": 8,
   "id": "4bc939c3-7dae-4251-93ff-bd259e04808b",
   "metadata": {},
   "outputs": [],
   "source": [
    "net = SimpleNN()\n",
    "criterion = nn.BCELoss() # Loss function: Binary cross-entrophy\n",
    "optimizer = optim.Adam(net.parameters(), lr = 0.1 ) # optimizer: Adam\n",
    "scheduler = StepLR(optimizer, step_size=10, gamma=0.1)  # Decay LR by a factor of 0.1 every 10 epochs"
   ]
  },
  {
   "cell_type": "markdown",
   "id": "66008f99-fcfe-427f-96d6-89725b6d9644",
   "metadata": {},
   "source": [
    "## Train"
   ]
  },
  {
   "cell_type": "code",
   "execution_count": 9,
   "id": "dc33c491-83fc-4b66-8bc6-a90950037cb8",
   "metadata": {},
   "outputs": [],
   "source": [
    "losses = []\n",
    "for epoch in range(200):\n",
    "    optimizer.zero_grad()\n",
    "    output = net(X)\n",
    "    loss = criterion(output.squeeze(),y)\n",
    "    # print(f'Epoch {epoch + 1}: Loss = {loss.item()}')  # Print the loss for this epoch\n",
    "    losses.append(loss.item())\n",
    "    loss.backward()\n",
    "    optimizer.step()\n",
    "    scheduler.step()  # Update the learning rate\n"
   ]
  },
  {
   "cell_type": "code",
   "execution_count": 10,
   "id": "5714bf4f-794b-4eca-963e-d2c2ca8b3b68",
   "metadata": {},
   "outputs": [
    {
     "data": {
      "image/png": "[encoded data removed]",
      "text/plain": [
       "<Figure size 432x288 with 1 Axes>"
      ]
     },
     "metadata": {
      "needs_background": "light"
     },
     "output_type": "display_data"
    }
   ],
   "source": [
    "plt.plot(losses)\n",
    "plt.title('Training Loss')\n",
    "plt.xlabel('Epoch')\n",
    "plt.ylabel('Loss')\n",
    "plt.show()"
   ]
  },
  {
   "cell_type": "markdown",
   "id": "87a63e70-2adf-4742-8c5a-16102ed15109",
   "metadata": {},
   "source": [
    "## Test"
   ]
  },
  {
   "cell_type": "code",
   "execution_count": 11,
   "id": "4a97a04d-d56d-45a3-bc91-e03e5821c0f3",
   "metadata": {},
   "outputs": [],
   "source": [
    "X_test = torch.tensor(scaler.transform(data['test4regions'].reshape(-1,4)), dtype= torch.float32)\n",
    "y_test = torch.tensor(data['testIsFace'].reshape(-1), dtype=torch.uint8).float()"
   ]
  },
  {
   "cell_type": "code",
   "execution_count": 12,
   "id": "719a3ca3-6b5f-41fe-a8dd-87b48f7b4b0d",
   "metadata": {},
   "outputs": [
    {
     "name": "stdout",
     "output_type": "stream",
     "text": [
      "Accuracy:  0.5925925970077515\n"
     ]
    }
   ],
   "source": [
    "# Test the network\n",
    "with torch.no_grad():\n",
    "    test_output = net(X_test)\n",
    "    predicted = (test_output.squeeze() > 0.5).float()\n",
    "    accuracy = (predicted == y_test).float().mean()\n",
    "    print('Accuracy: ', accuracy.item())"
   ]
  },
  {
   "cell_type": "code",
   "execution_count": 13,
   "id": "7e3813f9-f1b2-4af4-b797-eae737875988",
   "metadata": {},
   "outputs": [
    {
     "name": "stdout",
     "output_type": "stream",
     "text": [
      "[[14 13]\n",
      " [ 9 18]]\n"
     ]
    }
   ],
   "source": [
    "from sklearn.metrics import confusion_matrix\n",
    "cm = confusion_matrix(y_test, predicted)\n",
    "print(cm)"
   ]
  },
  {
   "cell_type": "markdown",
   "id": "c0cadc77-0437-494c-b405-a9de21372860",
   "metadata": {},
   "source": [
    "## Calculate Forward Pass Value"
   ]
  },
  {
   "cell_type": "code",
   "execution_count": 17,
   "id": "029a4de9-0b23-418d-9ec6-60c23ef2fd16",
   "metadata": {},
   "outputs": [],
   "source": [
    "import torch.nn.functional as F"
   ]
  },
  {
   "cell_type": "code",
   "execution_count": 14,
   "id": "a3877146-9d5f-46b3-9739-afab09262c62",
   "metadata": {},
   "outputs": [],
   "source": [
    "fc1_weights = net.fc1.weight.data\n",
    "fc1_biases = net.fc1.bias.data\n",
    "fc2_weights = net.fc2.weight.data\n",
    "fc2_biases = net.fc2.bias.data\n"
   ]
  },
  {
   "cell_type": "code",
   "execution_count": 21,
   "id": "9790f0a6-2aae-4749-ac00-e0cf7a5d894c",
   "metadata": {},
   "outputs": [
    {
     "name": "stdout",
     "output_type": "stream",
     "text": [
      "tensor([[0.4014, 0.0000, 0.9762,  ..., 0.0000, 1.2566, 0.2059],\n",
      "        [0.2635, 0.0000, 0.6944,  ..., 0.0000, 0.9091, 0.0017],\n",
      "        [0.3667, 0.0000, 0.6761,  ..., 0.0000, 1.1650, 0.0862],\n",
      "        ...,\n",
      "        [0.0000, 0.0533, 0.0000,  ..., 0.0000, 0.0000, 0.0000],\n",
      "        [0.0000, 0.3722, 0.0000,  ..., 0.0000, 0.0000, 0.0000],\n",
      "        [0.0000, 0.5054, 0.0000,  ..., 0.0000, 0.0000, 0.0000]])\n"
     ]
    }
   ],
   "source": [
    "z1 = torch.mm(X, fc1_weights.t()) + fc1_biases  # Linear transformation\n",
    "a1 = F.relu(z1)  # Output of first layer\n",
    "print(a1)"
   ]
  },
  {
   "cell_type": "code",
   "execution_count": 22,
   "id": "3432d316-59be-4d07-ae65-6a0af5db45fd",
   "metadata": {},
   "outputs": [
    {
     "name": "stdout",
     "output_type": "stream",
     "text": [
      "tensor([[1.5194, 0.0000, 1.1454,  ..., 0.0000, 2.5553, 0.0000],\n",
      "        [0.5697, 0.0000, 0.4305,  ..., 0.0000, 1.5776, 0.0000],\n",
      "        [0.7873, 0.0000, 0.4089,  ..., 0.0000, 1.8264, 0.0000],\n",
      "        ...,\n",
      "        [0.0000, 0.0000, 0.0000,  ..., 0.0000, 0.0000, 0.0000],\n",
      "        [0.0000, 0.0000, 0.0000,  ..., 0.0000, 0.0000, 0.0000],\n",
      "        [0.0000, 0.0000, 0.0000,  ..., 0.0000, 0.0000, 0.0000]])\n"
     ]
    }
   ],
   "source": [
    "z2 = torch.mm(a1, fc2_weights.t()) + fc2_biases  # Linear transformation\n",
    "a2 = F.relu(z2) # output of the second layer\n",
    "print(a2)"
   ]
  },
  {
   "cell_type": "code",
   "execution_count": null,
   "id": "ddef5e2a-ce2b-4fc6-ac67-ea5c115fe84f",
   "metadata": {},
   "outputs": [],
   "source": []
  }
 ],
 "metadata": {
  "kernelspec": {
   "display_name": "Python 3 (ipykernel)",
   "language": "python",
   "name": "python3"
  },
  "language_info": {
   "codemirror_mode": {
    "name": "ipython",
    "version": 3
   },
   "file_extension": ".py",
   "mimetype": "text/x-python",
   "name": "python",
   "nbconvert_exporter": "python",
   "pygments_lexer": "ipython3",
   "version": "3.8.18"
  }
 },
 "nbformat": 4,
 "nbformat_minor": 5
}
