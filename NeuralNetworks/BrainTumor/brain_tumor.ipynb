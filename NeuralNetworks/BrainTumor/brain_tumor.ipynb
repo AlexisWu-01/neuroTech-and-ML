{
 "cells": [
  {
   "cell_type": "code",
   "execution_count": 1,
   "id": "2410a5af-1cf4-4065-8edb-61a53df210f6",
   "metadata": {},
   "outputs": [],
   "source": [
    "from torch.utils.data import DataLoader, Dataset\n",
    "import torchvision.transforms as T\n",
    "import torch\n",
    "import torch.nn as nn\n",
    "from torchvision.utils import make_grid\n",
    "from torchvision.utils import save_image\n",
    "from PIL import Image\n",
    "import matplotlib.pyplot as plt\n",
    "import numpy as np\n",
    "import random\n",
    "%matplotlib inline"
   ]
  },
  {
   "cell_type": "code",
   "execution_count": 2,
   "id": "40a9b031-6892-47be-ad78-24325764ae0b",
   "metadata": {},
   "outputs": [],
   "source": [
    "import pathlib\n",
    "import os"
   ]
  },
  {
   "cell_type": "code",
   "execution_count": 3,
   "id": "da1be7ac-0e94-419f-8d4e-68b28eee7ba0",
   "metadata": {},
   "outputs": [],
   "source": [
    "has_mps = getattr(torch, \"has_mps\", False)\n",
    "device = \"mps\" if has_mps else \"cpu\""
   ]
  },
  {
   "cell_type": "code",
   "execution_count": 4,
   "id": "e1c57de2-7177-41c8-b4fc-770d0e08dcce",
   "metadata": {},
   "outputs": [],
   "source": [
    "TUMOR_DIR = \"Brain Tumor\"\n",
    "HEALTHY_DIR = \"Healthy\"\n",
    "IMAGE_SIZE = (128,128)"
   ]
  },
  {
   "cell_type": "code",
   "execution_count": 5,
   "id": "d403899b-79a0-4033-9fe4-4b90ca435307",
   "metadata": {},
   "outputs": [],
   "source": [
    "tumors = []\n",
    "for (top, dirs, files) in os.walk(TUMOR_DIR):\n",
    "    for pic in files:\n",
    "        if pic.split('.')[-1].lower() in ['png','jpg','tif']:\n",
    "            im = Image.open(os.path.join(top, pic)).convert('L').resize(IMAGE_SIZE)\n",
    "            data = np.asarray(im)\n",
    "            tumors.append(data)\n",
    "tumor_label = [1]*len(tumors)"
   ]
  },
  {
   "cell_type": "code",
   "execution_count": 6,
   "id": "9e7e9e5c-a3b4-4439-ae9f-82f18a0934c9",
   "metadata": {},
   "outputs": [],
   "source": [
    "healthy = []\n",
    "for (top, dirs, files) in os.walk(HEALTHY_DIR):\n",
    "    for pic in files:\n",
    "        if pic.split('.')[-1].lower() in ['png','jpg','tif']:\n",
    "            im = Image.open(os.path.join(top, pic)).convert('L').resize(IMAGE_SIZE)\n",
    "            data = np.asarray(im)\n",
    "            healthy.append(data)\n",
    "healthy_label = [0]*len(healthy)"
   ]
  },
  {
   "cell_type": "code",
   "execution_count": 7,
   "id": "82833a43-b67f-447f-bb88-724834accc62",
   "metadata": {
    "scrolled": true
   },
   "outputs": [],
   "source": [
    "X = np.array(tumors+healthy).astype(\"float\")\n",
    "y = np.array(tumor_label+healthy_label).astype(\"float\")\n"
   ]
  },
  {
   "cell_type": "code",
   "execution_count": 8,
   "id": "b32a251f-3e49-4a6f-8f27-c9cef33ea8a0",
   "metadata": {},
   "outputs": [],
   "source": [
    "from sklearn.model_selection import train_test_split\n",
    "from sklearn.preprocessing import StandardScaler"
   ]
  },
  {
   "cell_type": "code",
   "execution_count": 9,
   "id": "94eddd56-d6e2-4aef-912e-79c927263c4f",
   "metadata": {},
   "outputs": [],
   "source": [
    "X_train, X_test, y_train, y_test = train_test_split(X, y, test_size=0.2, random_state=42)\n",
    "# standarization\n",
    "original_shape = X_train.shape\n",
    "reshaped_train = X_train.reshape(original_shape[0]*original_shape[1], -1)\n",
    "scaler = StandardScaler()\n",
    "reshaped_train = scaler.fit_transform(reshaped_train)\n",
    "X_train = reshaped_train.reshape(original_shape)\n",
    "\n",
    "test_shape = X_test.shape\n",
    "reshaped_test = X_test.reshape(test_shape[0]*test_shape[1],-1)\n",
    "reshaped_test = scaler.transform(reshaped_test)\n",
    "X_test = reshaped_test.reshape(test_shape)"
   ]
  },
  {
   "cell_type": "code",
   "execution_count": 10,
   "id": "b2a4eb4b-6005-4992-ad63-68d017cb8b6d",
   "metadata": {},
   "outputs": [],
   "source": [
    "# define a data class\n",
    "class brainTumorDataset(Dataset):\n",
    "    def __init__(self,X,y):\n",
    "        self.X = X\n",
    "        self.y = y\n",
    "        \n",
    "    def __len__(self):\n",
    "        return len(self.y)\n",
    "\n",
    "    def __getitem__(self,index):\n",
    "        image = torch.from_numpy(self.X[index].astype(np.float32)).unsqueeze(0)  # Convert to float32 for better compatibility with PyTorch\n",
    "        label = self.y[index].astype(np.float32).reshape(-1)  # Assuming labels are integer classes\n",
    "        return image, label"
   ]
  },
  {
   "cell_type": "code",
   "execution_count": 11,
   "id": "1491e9ff-2a31-4b95-bb86-f10a99be6bc0",
   "metadata": {},
   "outputs": [],
   "source": [
    "train_dataset = brainTumorDataset(X_train,y_train)\n",
    "test_dataset = brainTumorDataset(X_test,y_test)"
   ]
  },
  {
   "cell_type": "code",
   "execution_count": 12,
   "id": "3b39a009-426e-4a12-b1c2-9b5e9d0f2865",
   "metadata": {},
   "outputs": [],
   "source": [
    "train_loader = DataLoader(train_dataset, batch_size=32, shuffle=True)\n",
    "test_loader = DataLoader(test_dataset, batch_size=32, shuffle=False)"
   ]
  },
  {
   "cell_type": "markdown",
   "id": "07a0b4f2-f0cf-4b4a-988b-ddb6fe718cf8",
   "metadata": {},
   "source": [
    "# Build Neural Network"
   ]
  },
  {
   "cell_type": "code",
   "execution_count": 13,
   "id": "5de67eaa-43ac-438c-a34d-4672a95eb6c5",
   "metadata": {},
   "outputs": [],
   "source": [
    "from torch.nn import Module\n",
    "from torch.nn import Conv2d\n",
    "from torch.nn import Linear\n",
    "from torch.nn import MaxPool2d\n",
    "from torch.nn import ReLU\n",
    "from torch.nn import Sigmoid\n",
    "from torch import flatten"
   ]
  },
  {
   "cell_type": "code",
   "execution_count": 14,
   "id": "11337653-229d-4cd5-a06c-a2c92028c2c7",
   "metadata": {},
   "outputs": [],
   "source": [
    "class LeNet(Module):2kj\n",
    "    def __init__(self, numChannels):\n",
    "        super(LeNet, self).__init__()\n",
    "\n",
    "        self.conv1 = Conv2d(in_channels=numChannels, out_channels=20, kernel_size=(5,5),padding=2)\n",
    "        self.relu1 = ReLU()\n",
    "        self.maxpool1 = MaxPool2d(kernel_size=4, stride=4)\n",
    "\n",
    "        self.conv2 = Conv2d(in_channels=20, out_channels=50, kernel_size = 5, padding=2)\n",
    "        self.relu2 = ReLU()\n",
    "        self.maxpool2 = MaxPool2d(kernel_size=2, stride=2)\n",
    "\n",
    "        self.fc1 = Linear(in_features=12800, out_features=500)\n",
    "        self.relu3 = ReLU()\n",
    "\n",
    "        self.fc2 = Linear(in_features=500, out_features = 1)\n",
    "        self.sigmoid = Sigmoid()\n",
    "\n",
    "    def forward(self, x):\n",
    "        x = self.conv1(x)\n",
    "        x = self.relu1(x)\n",
    "        x = self.maxpool1(x)\n",
    "        # pass the output from the previous layer through the second\n",
    "        # set of CONV => RELU => POOL layers\n",
    "        x = self.conv2(x)\n",
    "        x = self.relu2(x)\n",
    "        x = self.maxpool2(x)\n",
    "        # flatten the output from the previous layer and pass it\n",
    "        # through our only set of FC => RELU layers\n",
    "        x = flatten(x, 1)\n",
    "        x = self.fc1(x)\n",
    "        x = self.relu3(x)\n",
    "        # pass the output to our softmax classifier to get our output\n",
    "        # predictions\n",
    "        x = self.fc2(x)\n",
    "        output = self.sigmoid(x)\n",
    "        # return the output predictions\n",
    "        return output"
   ]
  },
  {
   "cell_type": "code",
   "execution_count": 15,
   "id": "1fa0eb55-d1ea-4a65-a557-10f0d2114c6b",
   "metadata": {},
   "outputs": [],
   "source": [
    "model = LeNet(numChannels=1).to(device)"
   ]
  },
  {
   "cell_type": "code",
   "execution_count": 16,
   "id": "afad154f-f606-4b83-861a-6fba7bcf3e52",
   "metadata": {},
   "outputs": [],
   "source": [
    "optimizer = torch.optim.Adam(model.parameters(), lr = 1e-3)\n",
    "# scheduler = torch.optim.lr_scheduler.StepLR(optimizer, step_size = 5, gamma = 0.1)\n",
    "lossFn = nn.BCELoss()"
   ]
  },
  {
   "cell_type": "code",
   "execution_count": 17,
   "id": "fa2dab7e-db6d-497b-a2db-d46a77220ad1",
   "metadata": {},
   "outputs": [],
   "source": [
    "num_epochs = 10\n",
    "losses = []\n",
    "for epoch in range(num_epochs):\n",
    "    model.train()\n",
    "    for i, (inputs, labels) in enumerate(train_loader):\n",
    "        inputs = inputs.to(device)\n",
    "        labels = labels.to(device)\n",
    "        optimizer.zero_grad()\n",
    "        outputs = model(inputs)\n",
    "        loss = lossFn(outputs, labels)\n",
    "        loss.backward()\n",
    "        optimizer.step()\n",
    "        # scheduler.step()\n",
    "    losses.append(loss.item())"
   ]
  },
  {
   "cell_type": "code",
   "execution_count": 18,
   "id": "e6351637-183d-4ead-8a46-afcae9e726db",
   "metadata": {},
   "outputs": [
    {
     "data": {
      "image/png": "[encoded data removed]",
      "text/plain": [
       "<Figure size 432x288 with 1 Axes>"
      ]
     },
     "metadata": {
      "needs_background": "light"
     },
     "output_type": "display_data"
    }
   ],
   "source": [
    "plt.plot(losses)\n",
    "plt.title('Training Loss')\n",
    "plt.xlabel('Epoch')\n",
    "plt.ylabel('Loss')\n",
    "plt.show()"
   ]
  },
  {
   "cell_type": "markdown",
   "id": "b6a32738-c974-46bd-b5be-0b3ae06cb56f",
   "metadata": {},
   "source": [
    "## Test"
   ]
  },
  {
   "cell_type": "code",
   "execution_count": 19,
   "id": "f9326889-28b0-4368-bede-6ac817f1d5b9",
   "metadata": {},
   "outputs": [],
   "source": [
    "all_labels = []\n",
    "all_preds = []\n",
    "\n",
    "with torch.no_grad():  # Disable gradient computation\n",
    "    for inputs, labels in test_loader:\n",
    "        inputs = inputs.to(device)\n",
    "        labels = labels.to(device)\n",
    "        outputs = model(inputs)\n",
    "        preds = (outputs.squeeze() > 0.5).long()  # Threshold the output at 0.5 to get binary class labels\n",
    "        all_labels.append(labels)\n",
    "        all_preds.append(preds)\n",
    "\n",
    "# Concatenate all the labels and predictions\n",
    "all_labels = torch.cat(all_labels)\n",
    "all_preds = torch.cat(all_preds)\n"
   ]
  },
  {
   "cell_type": "code",
   "execution_count": 20,
   "id": "0e0cd442-e697-448b-a895-3ecff6ff4688",
   "metadata": {},
   "outputs": [
    {
     "name": "stdout",
     "output_type": "stream",
     "text": [
      "Accuracy: 96.95%\n",
      "[[388  14]\n",
      " [ 14 503]]\n"
     ]
    }
   ],
   "source": [
    "from sklearn.metrics import accuracy_score, classification_report,confusion_matrix\n",
    "\n",
    "# Convert to numpy arrays for use with sklearn\n",
    "all_labels = all_labels.cpu().numpy()\n",
    "all_preds = all_preds.cpu().numpy()\n",
    "\n",
    "# Calculate accuracy\n",
    "accuracy = accuracy_score(all_labels, all_preds)\n",
    "print(f'Accuracy: {accuracy * 100:.2f}%')\n",
    "\n",
    "# Print classification report\n",
    "cm = confusion_matrix(all_labels, all_preds)\n",
    "print(cm)\n"
   ]
  },
  {
   "cell_type": "code",
   "execution_count": null,
   "id": "377732a4-6724-4707-98fd-1e1771e07c78",
   "metadata": {},
   "outputs": [],
   "source": []
  }
 ],
 "metadata": {
  "kernelspec": {
   "display_name": "Python 3 (ipykernel)",
   "language": "python",
   "name": "python3"
  },
  "language_info": {
   "codemirror_mode": {
    "name": "ipython",
    "version": 3
   },
   "file_extension": ".py",
   "mimetype": "text/x-python",
   "name": "python",
   "nbconvert_exporter": "python",
   "pygments_lexer": "ipython3",
   "version": "3.8.18"
  }
 },
 "nbformat": 4,
 "nbformat_minor": 5
}
