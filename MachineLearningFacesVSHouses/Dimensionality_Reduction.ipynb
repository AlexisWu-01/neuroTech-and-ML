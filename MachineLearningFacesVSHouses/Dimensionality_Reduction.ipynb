{
 "cells": [
  {
   "cell_type": "code",
   "execution_count": 1,
   "id": "7770b502-60a2-42ca-89ec-3161471eab1a",
   "metadata": {},
   "outputs": [],
   "source": [
    "from scipy.io import loadmat\n",
    "import pandas as pd\n",
    "import numpy as np"
   ]
  },
  {
   "cell_type": "code",
   "execution_count": 2,
   "id": "2ba6d5e4-e94d-4537-ba59-97316e0af081",
   "metadata": {},
   "outputs": [
    {
     "name": "stderr",
     "output_type": "stream",
     "text": [
      "/Users/alexiswu/Desktop/neurotech/lib/python3.10/site-packages/scipy/io/matlab/_mio.py:227: MatReadWarning: Duplicate variable name \"None\" in stream - replacing previous with new\n",
      "Consider mio5.varmats_from_mat to split file into single variable files\n",
      "  matfile_dict = MR.get_variables(variable_names)\n"
     ]
    }
   ],
   "source": [
    "data = loadmat('trainfmri3d.mat')"
   ]
  },
  {
   "cell_type": "code",
   "execution_count": 48,
   "id": "79e8eeca-2ffe-4f45-9b5a-d0d47ae12ca5",
   "metadata": {},
   "outputs": [],
   "source": [
    "mask = data['mask'].reshape(-1).astype(bool)\n",
    "df_mask = pd.DataFrame(mask)"
   ]
  },
  {
   "cell_type": "code",
   "execution_count": 50,
   "id": "bd14fbbf-3fae-47e1-93d1-961ab852d8a9",
   "metadata": {},
   "outputs": [],
   "source": [
    "df_mask.to_csv('save_params/brain_mask.csv')"
   ]
  },
  {
   "cell_type": "code",
   "execution_count": 3,
   "id": "44cdf9f5-cbd2-4c34-ac24-96eef48bd028",
   "metadata": {},
   "outputs": [],
   "source": [
    "def load_and_mask(data):\n",
    "    mask = data['mask'].reshape(-1).astype(bool)\n",
    "    mask_region1 = data['mask_region1'].reshape(-1).astype(bool)\n",
    "    mask_region2 = data['mask_region2'].reshape(-1).astype(bool)\n",
    "    mask_region3 = data['mask_region3'].reshape(-1).astype(bool)\n",
    "    mask_region4 = data['mask_region4'].reshape(-1).astype(bool)\n",
    "    train_fmri3d = data['train_fmri3d'].reshape(-1,162).transpose()\n",
    "    labels = pd.read_csv('train_labels.csv',header=None)\n",
    "    whole_brain = []\n",
    "    region1 = []\n",
    "    region2 = []\n",
    "    region3 = []\n",
    "    region4 = []\n",
    "    for d in train_fmri3d:\n",
    "        whole_brain.append(np.ma.array(d, mask=~mask).filled(fill_value=0))\n",
    "        region1.append(np.ma.array(d, mask=~mask_region1).filled(fill_value=0))\n",
    "        region2.append(np.ma.array(d, mask=~mask_region2).filled(fill_value=0))\n",
    "        region3.append(np.ma.array(d, mask=~mask_region3).filled(fill_value=0))\n",
    "        region4.append(np.ma.array(d, mask=~mask_region4).filled(fill_value=0))\n",
    "    regions = [region1, region2, region3, region4]\n",
    "    return regions, labels, whole_brain\n",
    "\n",
    "    "
   ]
  },
  {
   "cell_type": "code",
   "execution_count": 3,
   "id": "5964afbc-456b-4843-b137-3bbd25ecb5cf",
   "metadata": {},
   "outputs": [],
   "source": [
    "def load_and_mask(data):\n",
    "    mask = data['mask'].reshape(-1).astype(bool)\n",
    "    mask_region1 = data['mask_region1'].reshape(-1).astype(bool)\n",
    "    mask_region2 = data['mask_region2'].reshape(-1).astype(bool)\n",
    "    mask_region3 = data['mask_region3'].reshape(-1).astype(bool)\n",
    "    mask_region4 = data['mask_region4'].reshape(-1).astype(bool)\n",
    "    train_fmri3d = data['train_fmri3d'].reshape(-1,162).transpose()\n",
    "    labels = pd.read_csv('train_labels.csv',header=None)\n",
    "    whole_brain = []\n",
    "    region1 = []\n",
    "    region2 = []\n",
    "    region3 = []\n",
    "    region4 = []\n",
    "    for d in train_fmri3d:\n",
    "        whole_brain.append(np.ma.array(d, mask=~mask).filled(fill_value=0))\n",
    "        region1.append(np.ma.array(d, mask=~mask_region1).filled(fill_value=0))\n",
    "        region2.append(np.ma.array(d, mask=~mask_region2).filled(fill_value=0))\n",
    "        region3.append(np.ma.array(d, mask=~mask_region3).filled(fill_value=0))\n",
    "        region4.append(np.ma.array(d, mask=~mask_region4).filled(fill_value=0))\n",
    "    regions = [region1, region2, region3, region4]\n",
    "    return regions, labels, whole_brain\n",
    "\n",
    "    "
   ]
  },
  {
   "cell_type": "code",
   "execution_count": 4,
   "id": "b2ab7fcf-5fc2-4b42-88a1-c84477988250",
   "metadata": {},
   "outputs": [],
   "source": [
    "regions, labels, whole_brain = load_and_mask(data)\n"
   ]
  },
  {
   "cell_type": "markdown",
   "id": "6470e997-97a5-47d2-a76c-1422acc8caae",
   "metadata": {},
   "source": [
    "# Dimensionality Reduction\n",
    "## PCA"
   ]
  },
  {
   "cell_type": "code",
   "execution_count": 124,
   "id": "f42889da-c140-4d6c-88b1-b35cd6b17fbc",
   "metadata": {},
   "outputs": [],
   "source": [
    "from sklearn.preprocessing import StandardScaler\n",
    "from sklearn.decomposition import PCA"
   ]
  },
  {
   "cell_type": "code",
   "execution_count": 128,
   "id": "4ebdf55e-d603-419d-bdf3-752ebc2e9f11",
   "metadata": {},
   "outputs": [],
   "source": [
    "def PCA_reduction(region):\n",
    "    x = StandardScaler().fit_transform(region)\n",
    "    pca = PCA(n_components=80)\n",
    "    PCs = pca.fit_transform(x)\n",
    "    return pca, pd.DataFrame(PCs)"
   ]
  },
  {
   "cell_type": "code",
   "execution_count": null,
   "id": "da150cd4-3c1f-4ebc-9528-5f04f8caf453",
   "metadata": {},
   "outputs": [],
   "source": [
    "X_train, X_test = train_test_split(whole_brain, test_size=0.33, random_state=42)"
   ]
  },
  {
   "cell_type": "code",
   "execution_count": 129,
   "id": "e1b44c6c-957a-4584-8901-9575855270d0",
   "metadata": {},
   "outputs": [],
   "source": [
    "pca,df_pca = PCA_reduction(whole_brain)"
   ]
  },
  {
   "cell_type": "code",
   "execution_count": 130,
   "id": "3a02be00-4186-4787-a468-691e59c59a8e",
   "metadata": {},
   "outputs": [
    {
     "data": {
      "text/html": [
       "<div>\n",
       "<style scoped>\n",
       "    .dataframe tbody tr th:only-of-type {\n",
       "        vertical-align: middle;\n",
       "    }\n",
       "\n",
       "    .dataframe tbody tr th {\n",
       "        vertical-align: top;\n",
       "    }\n",
       "\n",
       "    .dataframe thead th {\n",
       "        text-align: right;\n",
       "    }\n",
       "</style>\n",
       "<table border=\"1\" class=\"dataframe\">\n",
       "  <thead>\n",
       "    <tr style=\"text-align: right;\">\n",
       "      <th></th>\n",
       "      <th>0</th>\n",
       "      <th>1</th>\n",
       "      <th>2</th>\n",
       "      <th>3</th>\n",
       "      <th>4</th>\n",
       "      <th>5</th>\n",
       "      <th>6</th>\n",
       "      <th>7</th>\n",
       "      <th>8</th>\n",
       "      <th>9</th>\n",
       "      <th>...</th>\n",
       "      <th>70</th>\n",
       "      <th>71</th>\n",
       "      <th>72</th>\n",
       "      <th>73</th>\n",
       "      <th>74</th>\n",
       "      <th>75</th>\n",
       "      <th>76</th>\n",
       "      <th>77</th>\n",
       "      <th>78</th>\n",
       "      <th>79</th>\n",
       "    </tr>\n",
       "  </thead>\n",
       "  <tbody>\n",
       "    <tr>\n",
       "      <th>0</th>\n",
       "      <td>244.059561</td>\n",
       "      <td>-53.009625</td>\n",
       "      <td>-73.104909</td>\n",
       "      <td>2.226906</td>\n",
       "      <td>-9.682479</td>\n",
       "      <td>-7.241342</td>\n",
       "      <td>9.031807</td>\n",
       "      <td>-12.661569</td>\n",
       "      <td>36.587658</td>\n",
       "      <td>-3.113218</td>\n",
       "      <td>...</td>\n",
       "      <td>-0.314030</td>\n",
       "      <td>-0.939965</td>\n",
       "      <td>1.574927</td>\n",
       "      <td>1.818959</td>\n",
       "      <td>2.053352</td>\n",
       "      <td>1.051539</td>\n",
       "      <td>0.289606</td>\n",
       "      <td>-3.212223</td>\n",
       "      <td>-0.173186</td>\n",
       "      <td>0.975142</td>\n",
       "    </tr>\n",
       "    <tr>\n",
       "      <th>1</th>\n",
       "      <td>243.018123</td>\n",
       "      <td>-51.926004</td>\n",
       "      <td>-75.456479</td>\n",
       "      <td>-0.852447</td>\n",
       "      <td>-13.055425</td>\n",
       "      <td>-3.421077</td>\n",
       "      <td>7.007460</td>\n",
       "      <td>-7.827998</td>\n",
       "      <td>35.912729</td>\n",
       "      <td>2.243219</td>\n",
       "      <td>...</td>\n",
       "      <td>-3.664666</td>\n",
       "      <td>1.495062</td>\n",
       "      <td>-0.465855</td>\n",
       "      <td>-0.840735</td>\n",
       "      <td>2.236974</td>\n",
       "      <td>0.149188</td>\n",
       "      <td>-0.301855</td>\n",
       "      <td>0.192775</td>\n",
       "      <td>-0.240017</td>\n",
       "      <td>1.476314</td>\n",
       "    </tr>\n",
       "    <tr>\n",
       "      <th>2</th>\n",
       "      <td>241.482696</td>\n",
       "      <td>-50.156863</td>\n",
       "      <td>-76.809838</td>\n",
       "      <td>2.446407</td>\n",
       "      <td>-7.468902</td>\n",
       "      <td>-4.897464</td>\n",
       "      <td>7.272951</td>\n",
       "      <td>-5.987472</td>\n",
       "      <td>35.206925</td>\n",
       "      <td>0.943197</td>\n",
       "      <td>...</td>\n",
       "      <td>0.033392</td>\n",
       "      <td>2.569976</td>\n",
       "      <td>-1.248307</td>\n",
       "      <td>1.578977</td>\n",
       "      <td>0.174804</td>\n",
       "      <td>-3.457592</td>\n",
       "      <td>1.730467</td>\n",
       "      <td>3.893391</td>\n",
       "      <td>1.638536</td>\n",
       "      <td>1.231950</td>\n",
       "    </tr>\n",
       "    <tr>\n",
       "      <th>3</th>\n",
       "      <td>243.428585</td>\n",
       "      <td>-51.587863</td>\n",
       "      <td>-78.076047</td>\n",
       "      <td>4.392065</td>\n",
       "      <td>-5.883809</td>\n",
       "      <td>-5.533057</td>\n",
       "      <td>2.324079</td>\n",
       "      <td>-8.464100</td>\n",
       "      <td>31.614936</td>\n",
       "      <td>-4.744107</td>\n",
       "      <td>...</td>\n",
       "      <td>-1.429945</td>\n",
       "      <td>-0.096418</td>\n",
       "      <td>1.356137</td>\n",
       "      <td>-0.623611</td>\n",
       "      <td>-3.928607</td>\n",
       "      <td>-0.466383</td>\n",
       "      <td>-5.315796</td>\n",
       "      <td>-3.472207</td>\n",
       "      <td>-1.961481</td>\n",
       "      <td>-1.566169</td>\n",
       "    </tr>\n",
       "    <tr>\n",
       "      <th>4</th>\n",
       "      <td>241.409110</td>\n",
       "      <td>-51.942934</td>\n",
       "      <td>-76.968453</td>\n",
       "      <td>2.600461</td>\n",
       "      <td>-11.136642</td>\n",
       "      <td>-3.921068</td>\n",
       "      <td>7.639429</td>\n",
       "      <td>-3.220593</td>\n",
       "      <td>34.303432</td>\n",
       "      <td>-0.903921</td>\n",
       "      <td>...</td>\n",
       "      <td>-1.046664</td>\n",
       "      <td>0.062536</td>\n",
       "      <td>2.074404</td>\n",
       "      <td>0.573536</td>\n",
       "      <td>-0.701890</td>\n",
       "      <td>-0.243185</td>\n",
       "      <td>2.509017</td>\n",
       "      <td>0.621748</td>\n",
       "      <td>0.009618</td>\n",
       "      <td>0.920829</td>\n",
       "    </tr>\n",
       "  </tbody>\n",
       "</table>\n",
       "<p>5 rows × 80 columns</p>\n",
       "</div>"
      ],
      "text/plain": [
       "           0          1          2         3          4         5         6   \\\n",
       "0  244.059561 -53.009625 -73.104909  2.226906  -9.682479 -7.241342  9.031807   \n",
       "1  243.018123 -51.926004 -75.456479 -0.852447 -13.055425 -3.421077  7.007460   \n",
       "2  241.482696 -50.156863 -76.809838  2.446407  -7.468902 -4.897464  7.272951   \n",
       "3  243.428585 -51.587863 -78.076047  4.392065  -5.883809 -5.533057  2.324079   \n",
       "4  241.409110 -51.942934 -76.968453  2.600461 -11.136642 -3.921068  7.639429   \n",
       "\n",
       "          7          8         9   ...        70        71        72  \\\n",
       "0 -12.661569  36.587658 -3.113218  ... -0.314030 -0.939965  1.574927   \n",
       "1  -7.827998  35.912729  2.243219  ... -3.664666  1.495062 -0.465855   \n",
       "2  -5.987472  35.206925  0.943197  ...  0.033392  2.569976 -1.248307   \n",
       "3  -8.464100  31.614936 -4.744107  ... -1.429945 -0.096418  1.356137   \n",
       "4  -3.220593  34.303432 -0.903921  ... -1.046664  0.062536  2.074404   \n",
       "\n",
       "         73        74        75        76        77        78        79  \n",
       "0  1.818959  2.053352  1.051539  0.289606 -3.212223 -0.173186  0.975142  \n",
       "1 -0.840735  2.236974  0.149188 -0.301855  0.192775 -0.240017  1.476314  \n",
       "2  1.578977  0.174804 -3.457592  1.730467  3.893391  1.638536  1.231950  \n",
       "3 -0.623611 -3.928607 -0.466383 -5.315796 -3.472207 -1.961481 -1.566169  \n",
       "4  0.573536 -0.701890 -0.243185  2.509017  0.621748  0.009618  0.920829  \n",
       "\n",
       "[5 rows x 80 columns]"
      ]
     },
     "execution_count": 130,
     "metadata": {},
     "output_type": "execute_result"
    }
   ],
   "source": [
    "df_pca.head(5)"
   ]
  },
  {
   "cell_type": "code",
   "execution_count": 131,
   "id": "4dec86b6-cabd-4aee-9ad8-4aa3a6577e61",
   "metadata": {},
   "outputs": [],
   "source": [
    "df_pca.to_csv('pca80_4regions.csv', index=False)"
   ]
  },
  {
   "cell_type": "markdown",
   "id": "bf78161f-a73a-4337-9fb1-f455322860a3",
   "metadata": {},
   "source": [
    "## Autoencoder"
   ]
  },
  {
   "cell_type": "code",
   "execution_count": 66,
   "id": "036ed7ba-bf13-4b80-8d03-f943a7bc0458",
   "metadata": {},
   "outputs": [],
   "source": [
    "from keras.layers import Input, Dense, Dropout\n",
    "from keras.models import Model"
   ]
  },
  {
   "cell_type": "code",
   "execution_count": 67,
   "id": "86cd3215-1b2e-4f50-857a-6a5e9f7758d6",
   "metadata": {},
   "outputs": [],
   "source": [
    "from sklearn.model_selection import train_test_split\n",
    "from sklearn.preprocessing import StandardScaler\n"
   ]
  },
  {
   "cell_type": "code",
   "execution_count": 68,
   "id": "f17340ef-3384-4ad3-bb5a-bd960292b300",
   "metadata": {},
   "outputs": [],
   "source": [
    "encoding_dim = 80\n",
    "input = Input(shape=(163840,))\n",
    "encoded = Dense(encoding_dim*4, activation='relu')(input)\n",
    "encoded = Dropout(0.2)(encoded)\n",
    "encoded = Dense(encoding_dim*2, activation='relu')(encoded)\n",
    "encoded = Dense(encoding_dim, activation='relu')(encoded)\n"
   ]
  },
  {
   "cell_type": "code",
   "execution_count": 69,
   "id": "a767c0ed-e728-419f-ae2f-272d48ebcaa5",
   "metadata": {},
   "outputs": [],
   "source": [
    "decoded = Dense(encoding_dim*2, activation='relu')(encoded)\n",
    "decoded = Dense(encoding_dim*4, activation='relu')(decoded)\n",
    "decoded = Dense(163840, activation='relu')(decoded)\n",
    "autoencoder = Model(input, decoded)"
   ]
  },
  {
   "cell_type": "code",
   "execution_count": 70,
   "id": "1a7e64a6-8ada-422c-b9e4-f64047288d80",
   "metadata": {},
   "outputs": [],
   "source": [
    "autoencoder.compile(optimizer='adam', loss='MSE')"
   ]
  },
  {
   "cell_type": "code",
   "execution_count": 71,
   "id": "5b6d1edd-fa31-44de-b691-7528a1831090",
   "metadata": {},
   "outputs": [],
   "source": [
    "X_train, X_test = train_test_split(whole_brain, test_size=0.33, random_state=42)"
   ]
  },
  {
   "cell_type": "code",
   "execution_count": null,
   "id": "cca517b6-9494-40b8-97f0-f4c6f773449e",
   "metadata": {},
   "outputs": [],
   "source": []
  },
  {
   "cell_type": "code",
   "execution_count": 72,
   "id": "10d168ea-60d3-4819-9a0f-032320f98de6",
   "metadata": {},
   "outputs": [],
   "source": [
    "scaler = StandardScaler()\n",
    "X_train = scaler.fit_transform(X_train)\n",
    "X_test = scaler.transform(X_test)"
   ]
  },
  {
   "cell_type": "code",
   "execution_count": null,
   "id": "72dbc90b-5269-4473-af1a-e9ecf3a82557",
   "metadata": {},
   "outputs": [],
   "source": []
  },
  {
   "cell_type": "code",
   "execution_count": 73,
   "id": "ca33456b-8af4-4b3e-828a-0feafa40fb3a",
   "metadata": {},
   "outputs": [
    {
     "name": "stdout",
     "output_type": "stream",
     "text": [
      "Epoch 1/11\n",
      "2/2 [==============================] - 3s 1s/step - loss: 0.2437 - val_loss: 0.2483\n",
      "Epoch 2/11\n",
      "2/2 [==============================] - 2s 899ms/step - loss: 0.2428 - val_loss: 0.2382\n",
      "Epoch 3/11\n",
      "2/2 [==============================] - 2s 922ms/step - loss: 0.2323 - val_loss: 0.2210\n",
      "Epoch 4/11\n",
      "2/2 [==============================] - 2s 903ms/step - loss: 0.2177 - val_loss: 0.2163\n",
      "Epoch 5/11\n",
      "2/2 [==============================] - 2s 912ms/step - loss: 0.2136 - val_loss: 0.2120\n",
      "Epoch 6/11\n",
      "2/2 [==============================] - 2s 896ms/step - loss: 0.2073 - val_loss: 0.2050\n",
      "Epoch 7/11\n",
      "2/2 [==============================] - 2s 888ms/step - loss: 0.2007 - val_loss: 0.2026\n",
      "Epoch 8/11\n",
      "2/2 [==============================] - 2s 883ms/step - loss: 0.1975 - val_loss: 0.1992\n",
      "Epoch 9/11\n",
      "2/2 [==============================] - 2s 912ms/step - loss: 0.1949 - val_loss: 0.1977\n",
      "Epoch 10/11\n",
      "2/2 [==============================] - 2s 912ms/step - loss: 0.1925 - val_loss: 0.1947\n",
      "Epoch 11/11\n",
      "2/2 [==============================] - 2s 914ms/step - loss: 0.1898 - val_loss: 0.1918\n"
     ]
    },
    {
     "data": {
      "text/plain": [
       "<keras.src.callbacks.History at 0x14887be50>"
      ]
     },
     "execution_count": 73,
     "metadata": {},
     "output_type": "execute_result"
    }
   ],
   "source": [
    "autoencoder.fit(X_train, X_train,\n",
    "                epochs=11,\n",
    "                batch_size=64,\n",
    "                shuffle=True,\n",
    "                validation_data=(X_test, X_test))"
   ]
  },
  {
   "cell_type": "code",
   "execution_count": 74,
   "id": "9fcbe7de-651e-4e33-9a9d-a8cc94f045ed",
   "metadata": {},
   "outputs": [],
   "source": [
    "encoder_middle = Model(input, encoded)"
   ]
  },
  {
   "cell_type": "code",
   "execution_count": 75,
   "id": "2e54656a-abe1-44cb-ae4a-7a7c9496e78a",
   "metadata": {},
   "outputs": [
    {
     "name": "stdout",
     "output_type": "stream",
     "text": [
      "6/6 [==============================] - 0s 21ms/step\n"
     ]
    }
   ],
   "source": [
    "df_autoencoder = pd.DataFrame(encoder_middle.predict(np.stack(whole_brain)))"
   ]
  },
  {
   "cell_type": "code",
   "execution_count": 77,
   "id": "6c197ae0-40e9-46bb-8ebb-c51e62dabb0c",
   "metadata": {},
   "outputs": [
    {
     "data": {
      "text/plain": [
       "2179.102"
      ]
     },
     "execution_count": 77,
     "metadata": {},
     "output_type": "execute_result"
    }
   ],
   "source": [
    "df_autoencoder.max().max()"
   ]
  },
  {
   "cell_type": "code",
   "execution_count": 78,
   "id": "ce23f08c-8639-463e-b782-4df1279aed02",
   "metadata": {},
   "outputs": [],
   "source": [
    "df_autoencoder.to_csv(\"autoencoder80_4regions.csv\")"
   ]
  },
  {
   "cell_type": "markdown",
   "id": "89e73c5b-940e-41f3-b915-347503047cfe",
   "metadata": {},
   "source": [
    "# Save Parameters"
   ]
  },
  {
   "cell_type": "code",
   "execution_count": 21,
   "id": "24653bfa-02a7-435d-a16e-023fea0c840a",
   "metadata": {},
   "outputs": [],
   "source": [
    "from joblib import dump\n",
    "\n"
   ]
  },
  {
   "cell_type": "code",
   "execution_count": 144,
   "id": "240a6fe3-6887-4ebb-9e2f-65cc509b23d4",
   "metadata": {},
   "outputs": [],
   "source": [
    "scaler_params = {\n",
    "    'mean': list(scaler.mean_),\n",
    "    'scale': list(scaler.scale_)\n",
    "}\n",
    "pca_params = {\n",
    "    'components': pca.components_.tolist(),\n",
    "    'explained_variance': pca.explained_variance_.tolist(),\n",
    "    # Add any other necessary PCA attributes\n",
    "}\n",
    "params = {\n",
    "    'scaler': scaler_params,\n",
    "    'pca': pca_params\n",
    "}\n",
    "\n",
    "with open('save_params/pca80_params.json', 'w') as file:\n",
    "    json.dump(params, file)"
   ]
  },
  {
   "cell_type": "code",
   "execution_count": 79,
   "id": "96a00da2-09f2-404d-8828-c8b075c074cb",
   "metadata": {},
   "outputs": [],
   "source": [
    "encoder_middle.save_weights('save_params/autoencoder_80_whole.h5')"
   ]
  },
  {
   "cell_type": "code",
   "execution_count": 80,
   "id": "ecc23794-8c00-4290-9539-d58d735b5040",
   "metadata": {},
   "outputs": [
    {
     "data": {
      "text/plain": [
       "['save_params/scaler_80_whole.joblib']"
      ]
     },
     "execution_count": 80,
     "metadata": {},
     "output_type": "execute_result"
    }
   ],
   "source": [
    "# dump(pca, 'save_params/pca_80_whole.joblib')\n",
    "dump(scaler, 'save_params/scaler_80_whole.joblib')"
   ]
  },
  {
   "cell_type": "code",
   "execution_count": 81,
   "id": "7f1e5313-4f63-41a9-b62e-71bfb577e245",
   "metadata": {},
   "outputs": [],
   "source": [
    "from keras.models import Model\n",
    "\n",
    "# Assume you have a Keras model defined as:\n",
    "# model = Model(inputs=input, outputs=encoded)\n",
    "\n",
    "# Serialize the model architecture to JSON\n",
    "model_json = encoder_middle.to_json()\n",
    "\n",
    "with open(\"save_params/autoencoder_80_all.json\", \"w\") as json_file:\n",
    "    json_file.write(model_json)"
   ]
  },
  {
   "cell_type": "code",
   "execution_count": null,
   "id": "d387cb6c-65ac-4830-a893-0225019bb81d",
   "metadata": {},
   "outputs": [],
   "source": []
  }
 ],
 "metadata": {
  "kernelspec": {
   "display_name": "neurotech",
   "language": "python",
   "name": "neurotech"
  },
  "language_info": {
   "codemirror_mode": {
    "name": "ipython",
    "version": 3
   },
   "file_extension": ".py",
   "mimetype": "text/x-python",
   "name": "python",
   "nbconvert_exporter": "python",
   "pygments_lexer": "ipython3",
   "version": "3.10.11"
  }
 },
 "nbformat": 4,
 "nbformat_minor": 5
}
